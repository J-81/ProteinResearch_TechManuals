{
 "cells": [
  {
   "cell_type": "markdown",
   "metadata": {},
   "source": [
    "# Contents\n",
    "## Working with Sequences\n",
    "1. [Downloading-NCBI-Sequences](#\"Downloading-NCBI-Sequences\")\n",
    "1. TBA : [Performing-Pairwise-Alignments](#Performing-Pairwise-Alignments)\n",
    "\n",
    "\n",
    "### Note: Most of this is distilled from the Biopython Documentation [link](http://biopython.org/DIST/docs/tutorial/Tutorial.html)"
   ]
  },
  {
   "cell_type": "markdown",
   "metadata": {},
   "source": [
    "# Downloading-NCBI-Sequences\n",
    "- Source : http://biopython.org/DIST/docs/tutorial/Tutorial.html#sec139\n",
    "- Goal : Download a first 10 NCBI protein sequences associated with the CLOCK protein and store to a desired folder"
   ]
  },
  {
   "cell_type": "code",
   "execution_count": 50,
   "metadata": {},
   "outputs": [],
   "source": [
    "# standard way to import from Biopython\n",
    "# Note: we import individual sub-modules, this is common for very large libraries like Biopython\n",
    "from Bio import Entrez\n",
    "\n",
    "# Set the email that will identify you to NCBI\n",
    "# This is to make sure fair access to this free resource\n",
    "# This does directly affect the download\n",
    "Entrez.email = \"Jonathan.D.Oribello@gmail.com\"\n",
    "\n",
    "# Search databases (analogous to the search bar on the NCBI website)\n",
    "# These parameters can be found in the following manual: https://www.ncbi.nlm.nih.gov/books/NBK25499/#chapter4.ESearch\n",
    "handle = Entrez.esearch(# search the protein database\n",
    "                        db=\"protein\",  \n",
    "                        # search for the term CLOCK in Humans and filter out non-refseq entries\n",
    "                        term='CLOCK[All Fields] AND (\"Homo sapiens\"[ORGN] AND refseq[filter])',  \n",
    "                        # only return a maximum of 10 results\n",
    "                        retmax=10,\n",
    "                        # return accession numbers (by default a GI number is returned )\n",
    "                        idtype=\"acc\")\n",
    "\n"
   ]
  },
  {
   "cell_type": "code",
   "execution_count": 51,
   "metadata": {},
   "outputs": [],
   "source": [
    "# handle can be treated with a file object, we can read the returned information directly\n",
    "# Like this : handle.read()\n",
    "# Better Approach!\n",
    "# using Entrez to parse the results is usually easier to work with as the result is pretty much a normal python dictionary!\n",
    "\n",
    "# Caution: once the handle is used, it will no longer work, you will have to rerun the search if you do not save the results\n",
    "#     to a variable!\n",
    "results = Entrez.read(handle)"
   ]
  },
  {
   "cell_type": "code",
   "execution_count": 52,
   "metadata": {},
   "outputs": [
    {
     "name": "stdout",
     "output_type": "stream",
     "text": [
      "Key: Count\n",
      "Value : 222\n",
      "-----------------\n",
      "Key: RetMax\n",
      "Value : 10\n",
      "-----------------\n",
      "Key: RetStart\n",
      "Value : 0\n",
      "-----------------\n",
      "Key: IdList\n",
      "Value : ['NP_001307730.1', 'NP_001307732.1', 'NP_001307731.1', 'NP_001254481.1', 'NP_001254480.1', 'NP_644809.1', 'NP_009100.2', 'NP_680478.1', 'NP_680477.1', 'NP_002261.3']\n",
      "-----------------\n",
      "Key: TranslationSet\n",
      "Value : []\n",
      "-----------------\n",
      "Key: TranslationStack\n",
      "Value : [{'Term': 'CLOCK[All Fields]', 'Field': 'All Fields', 'Count': '311707', 'Explode': 'N'}, {'Term': '\"Homo sapiens\"[ORGN]', 'Field': 'ORGN', 'Count': '1423312', 'Explode': 'Y'}, {'Term': 'refseq[filter]', 'Field': 'filter', 'Count': '189953763', 'Explode': 'N'}, 'AND', 'GROUP', 'AND']\n",
      "-----------------\n",
      "Key: QueryTranslation\n",
      "Value : CLOCK[All Fields] AND (\"Homo sapiens\"[ORGN] AND refseq[filter])\n",
      "-----------------\n"
     ]
    }
   ],
   "source": [
    "# Now we can take a look at the results variable\n",
    "for k,v in results.items():\n",
    "    print(f\"Key: {k}\")\n",
    "    print(f\"Value : {v}\")\n",
    "    print(\"-----------------\")\n",
    "\n",
    "# Notice, the total count is also listed depicting total number of hits, regardless of retmax limiting how many actually get returned"
   ]
  },
  {
   "cell_type": "code",
   "execution_count": 53,
   "metadata": {},
   "outputs": [
    {
     "name": "stdout",
     "output_type": "stream",
     "text": [
      "Downloading NP_001307730.1\n",
      "Saving fasta for NP_001307730.1 to file: data/sequences/NP_001307730.1.fasta\n",
      "Downloading NP_001307732.1\n",
      "Saving fasta for NP_001307732.1 to file: data/sequences/NP_001307732.1.fasta\n",
      "Downloading NP_001307731.1\n",
      "Saving fasta for NP_001307731.1 to file: data/sequences/NP_001307731.1.fasta\n",
      "Downloading NP_001254481.1\n",
      "Saving fasta for NP_001254481.1 to file: data/sequences/NP_001254481.1.fasta\n",
      "Downloading NP_001254480.1\n",
      "Saving fasta for NP_001254480.1 to file: data/sequences/NP_001254480.1.fasta\n",
      "Downloading NP_644809.1\n",
      "Saving fasta for NP_644809.1 to file: data/sequences/NP_644809.1.fasta\n",
      "Downloading NP_009100.2\n",
      "Saving fasta for NP_009100.2 to file: data/sequences/NP_009100.2.fasta\n",
      "Downloading NP_680478.1\n",
      "Saving fasta for NP_680478.1 to file: data/sequences/NP_680478.1.fasta\n",
      "Downloading NP_680477.1\n",
      "Saving fasta for NP_680477.1 to file: data/sequences/NP_680477.1.fasta\n",
      "Downloading NP_002261.3\n",
      "Saving fasta for NP_002261.3 to file: data/sequences/NP_002261.3.fasta\n"
     ]
    }
   ],
   "source": [
    "# Using IDList we can now have 10 accession numbers to retrieve addtional information for\n",
    "# Let's download the fasta sequences for these IDs\n",
    "\n",
    "# imported for dealing with file paths\n",
    "# Note: the os library is also very common for file path\n",
    "# pathlib is also standard library (since python 3.4) and tends to have a nicer syntax\n",
    "from pathlib import Path\n",
    "\n",
    "\n",
    "# Lets define where we will save these files\n",
    "sequences_directory = \"data/sequences\"\n",
    "\n",
    "for accessionNumber in results[\"IdList\"]:\n",
    "    print(f\"Downloading {accessionNumber}\")\n",
    "    \n",
    "    # Notice we are now using efetch to retrieve full records\n",
    "    handle = Entrez.efetch(# retrieve from the proteins database\n",
    "                  db=\"protein\",\n",
    "                  # type of record to fetch, remember fasta is the format for sequence data\n",
    "                  rettype=\"fasta\", \n",
    "                  # retrieve as a textfile format (instead of something like xml)\n",
    "                  # full table of return formats for each return type : https://www.ncbi.nlm.nih.gov/books/NBK25499/table/chapter4.T._valid_values_of__retmode_and/?report=objectonly\n",
    "                  retmode=\"text\", \n",
    "                  # the accession ID to request, this is retrieved from the orignal esearch results\n",
    "                  id=accessionNumber\n",
    "                  )\n",
    "    \n",
    "    # save results from the fetch to our intended directory\n",
    "    save_file_here = Path(sequences_directory, f\"{accessionNumber}.fasta\")\n",
    "    with open(save_file_here, \"w\") as f:\n",
    "        print(f\"Saving fasta for {accessionNumber} to file: {save_file_here}\")\n",
    "        f.write(handle.read())"
   ]
  },
  {
   "cell_type": "code",
   "execution_count": null,
   "metadata": {},
   "outputs": [],
   "source": []
  }
 ],
 "metadata": {
  "kernelspec": {
   "display_name": "protein_ml",
   "language": "python",
   "name": "protein_ml"
  },
  "language_info": {
   "codemirror_mode": {
    "name": "ipython",
    "version": 3
   },
   "file_extension": ".py",
   "mimetype": "text/x-python",
   "name": "python",
   "nbconvert_exporter": "python",
   "pygments_lexer": "ipython3",
   "version": "3.8.2"
  }
 },
 "nbformat": 4,
 "nbformat_minor": 4
}
