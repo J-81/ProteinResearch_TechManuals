{
 "cells": [
  {
   "cell_type": "markdown",
   "metadata": {},
   "source": [
    "# Contents\n",
    "## Working with Structures\n",
    "1. TBA : [Downloading-PDB-Structures](#\"Downloading-PDB-Structures\")\n",
    "1. TBA : [Calculating-Minimum-Alpha-Carbon-Distances](#\"Calculating-RMSD\")\n",
    "\n",
    "\n",
    "### Note: Most of this is distilled from the Biopython Documentation [link](http://biopython.org/DIST/docs/tutorial/Tutorial.html)"
   ]
  },
  {
   "cell_type": "code",
   "execution_count": null,
   "metadata": {},
   "outputs": [],
   "source": []
  }
 ],
 "metadata": {
  "kernelspec": {
   "display_name": "protein_ml",
   "language": "python",
   "name": "protein_ml"
  },
  "language_info": {
   "codemirror_mode": {
    "name": "ipython",
    "version": 3
   },
   "file_extension": ".py",
   "mimetype": "text/x-python",
   "name": "python",
   "nbconvert_exporter": "python",
   "pygments_lexer": "ipython3",
   "version": "3.8.2"
  }
 },
 "nbformat": 4,
 "nbformat_minor": 4
}
