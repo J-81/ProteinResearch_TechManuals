{
 "cells": [
  {
   "cell_type": "markdown",
   "metadata": {},
   "source": [
    "# Goals of this Manual\n",
    "- Direct new programmers to resources for getting starting with Python\n",
    "- Describe useful packages for protein research\n",
    "- Describe some tips related to managing Python code"
   ]
  },
  {
   "cell_type": "markdown",
   "metadata": {},
   "source": [
    "## Getting Started\n",
    "\n",
    "Software carpentry is an excellent source of hands-on tutorials for a variety of useful skills. \n",
    "This includes a great beginner python tutorial.\n",
    "\n",
    "Link to Hands-on Tutorial: https://swcarpentry.github.io/python-novice-inflammation/\n",
    "\n",
    "**Note**: I highly suggest following the setup instructions using Anaconda and Jupyter notebook.  While you may already have Python installed on your system,  these tools simplify a lot of common processes in the research lab.\n",
    "\n",
    "After completing this tutorial, you should be able to do the following:\n",
    "1. Read and write basic python scripts\n",
    "1. Understand approaches for debugging\n",
    "1. Use Anaconda to install software using the Navigator Graphical User Interface (GUI)\n",
    "1. Perform interactive programming in a Jupyter notebook"
   ]
  },
  {
   "cell_type": "markdown",
   "metadata": {},
   "source": [
    "## Useful Packages\n",
    "- It is always better to use a well-documented library.  While writing things from scratch is sometimes necessary, leveraging existing libraries will cut down on debugging time and documentation time (as someone reading your code can refer to the library documentation for how the libraries work and you can focus on documenting what you are using the libraries for).\n",
    "\n",
    "\n",
    "- Biopython\n",
    "    - http://biopython.org/DIST/docs/tutorial/Tutorial.html\n",
    "    - Invaluable large set of tools\n",
    "    - Often used examples include sequence alignment, downloading data from common databases, parsing common proteins related file formats\n",
    "    - **Before you attempt to write something from scratch, see if it already exists in Biopython**\n",
    "    - The tutorial is also well-written (I tend to use this document as a manual which works well if you know the phrasing for what you are tyring to perform). \n",
    "\n",
    "- scikit-learn\n",
    "    - https://scikit-learn.org/stable/\n",
    "    - Library including machine-learning training, model assessment, clustering and classification\n",
    "    - Very straighforward in my experience, most documentation includes easy to modify examples\n",
    "    \n",
    "- pandas\n",
    "    - https://pandas.pydata.org/\n",
    "    - Excellent library for working with tabular data (i.e. csv files)\n",
    "    - *You used numpy in the software carpentry tutorial, pandas uses alot of numpy under-the-hood and tends to be a lot nicer to use compared to numpy directly*\n",
    "    - The dataframe and series objects tend to be directly compatible with many other very useful packages including scikit-learn and seaborn\n",
    "\n",
    "- seaborn\n",
    "    - https://seaborn.pydata.org/\n",
    "    - Great for visualizing data faster and more elegantly than matplotlib"
   ]
  }
 ],
 "metadata": {
  "kernelspec": {
   "display_name": "Python 3",
   "language": "python",
   "name": "python3"
  },
  "language_info": {
   "codemirror_mode": {
    "name": "ipython",
    "version": 3
   },
   "file_extension": ".py",
   "mimetype": "text/x-python",
   "name": "python",
   "nbconvert_exporter": "python",
   "pygments_lexer": "ipython3",
   "version": "3.7.4"
  },
  "toc-autonumbering": true
 },
 "nbformat": 4,
 "nbformat_minor": 4
}
